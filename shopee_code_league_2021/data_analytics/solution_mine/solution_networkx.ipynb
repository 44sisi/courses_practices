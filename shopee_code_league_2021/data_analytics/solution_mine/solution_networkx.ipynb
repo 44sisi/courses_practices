{
 "cells": [
  {
   "cell_type": "code",
   "execution_count": 255,
   "metadata": {},
   "outputs": [],
   "source": [
    "import json\n",
    "import networkx \n",
    "import pandas as pd\n",
    "from networkx.algorithms.components.connected import connected_components\n",
    "from datetime import datetime"
   ]
  },
  {
   "cell_type": "code",
   "execution_count": 256,
   "metadata": {},
   "outputs": [],
   "source": [
    "with open(\"contacts.json\", \"r\") as f:\n",
    "    data = json.load(f)"
   ]
  },
  {
   "cell_type": "markdown",
   "metadata": {},
   "source": [
    "# Get data with id as index"
   ]
  },
  {
   "cell_type": "code",
   "execution_count": 257,
   "metadata": {},
   "outputs": [],
   "source": [
    "data_with_index = dict(zip(map(lambda x: x[\"Id\"], data), data))"
   ]
  },
  {
   "cell_type": "code",
   "execution_count": 258,
   "metadata": {},
   "outputs": [
    {
     "data": {
      "text/plain": [
       "{0: {'Id': 0,\n",
       "  'Email': 'gkzAbIy@qq.com',\n",
       "  'Phone': '',\n",
       "  'Contacts': 1,\n",
       "  'OrderId': ''},\n",
       " 1: {'Id': 1,\n",
       "  'Email': '',\n",
       "  'Phone': '329442681752',\n",
       "  'Contacts': 4,\n",
       "  'OrderId': 'vDDJJcxfLtSfkooPhbYnJdxov'},\n",
       " 2: {'Id': 2,\n",
       "  'Email': '',\n",
       "  'Phone': '9125983679',\n",
       "  'Contacts': 0,\n",
       "  'OrderId': ''},\n",
       " 3: {'Id': 3,\n",
       "  'Email': 'mdllpYmE@gmail.com',\n",
       "  'Phone': '',\n",
       "  'Contacts': 0,\n",
       "  'OrderId': 'bHquEnCbbsGLqllwryxPsNOxa'},\n",
       " 4: {'Id': 4, 'Email': '', 'Phone': '300364407', 'Contacts': 2, 'OrderId': ''},\n",
       " 5: {'Id': 5, 'Email': '', 'Phone': '840113148', 'Contacts': 0, 'OrderId': ''},\n",
       " 6: {'Id': 6,\n",
       "  'Email': 'hESiBgYTxMnj@hotmail.com',\n",
       "  'Phone': '',\n",
       "  'Contacts': 4,\n",
       "  'OrderId': ''},\n",
       " 7: {'Id': 7,\n",
       "  'Email': 'hqyunTiaXfIjhO@yahoo.com',\n",
       "  'Phone': '',\n",
       "  'Contacts': 1,\n",
       "  'OrderId': 'vxjYZtMUvNhtEBDruzQfjpsmX'},\n",
       " 8: {'Id': 8,\n",
       "  'Email': 'XGUjcSiDpFKWEUCs@qq.com',\n",
       "  'Phone': '223604620644',\n",
       "  'Contacts': 2,\n",
       "  'OrderId': ''},\n",
       " 9: {'Id': 9,\n",
       "  'Email': 'osIIQgAiZX@hotmail.com',\n",
       "  'Phone': '',\n",
       "  'Contacts': 0,\n",
       "  'OrderId': 'IqewrMXVTJqSsVklWFfOpdRNI'}}"
      ]
     },
     "execution_count": 258,
     "metadata": {},
     "output_type": "execute_result"
    }
   ],
   "source": [
    "{k:v for k,v in data_with_index.items() if k in range(10)}"
   ]
  },
  {
   "cell_type": "markdown",
   "metadata": {},
   "source": [
    "# Get ids linked by either email/phone/orderid"
   ]
  },
  {
   "cell_type": "code",
   "execution_count": 261,
   "metadata": {},
   "outputs": [],
   "source": [
    "index = {}\n",
    "for d in data:\n",
    "    if d['Email']:\n",
    "        l = index.get(d['Email'],[])\n",
    "        l.append(d[\"Id\"])\n",
    "        index[d['Email']] = l\n",
    "    if d['Phone']:\n",
    "        l = index.get(d['Phone'],[])\n",
    "        l.append(d[\"Id\"])\n",
    "        index[d['Phone']] = l\n",
    "    if d['OrderId']:\n",
    "        l = index.get(d['OrderId'],[])\n",
    "        l.append(d[\"Id\"])\n",
    "        index[d['OrderId']] = l\n",
    "linked_ids = list(index.values())"
   ]
  },
  {
   "cell_type": "code",
   "execution_count": 262,
   "metadata": {},
   "outputs": [
    {
     "data": {
      "text/plain": [
       "629135"
      ]
     },
     "execution_count": 262,
     "metadata": {},
     "output_type": "execute_result"
    }
   ],
   "source": [
    "len(linked_ids)"
   ]
  },
  {
   "cell_type": "markdown",
   "metadata": {},
   "source": [
    "# Get ids linked by email+phone+orderid"
   ]
  },
  {
   "cell_type": "code",
   "execution_count": 263,
   "metadata": {},
   "outputs": [],
   "source": [
    "def to_graph(l):\n",
    "    G = networkx.Graph()\n",
    "    for part in l:\n",
    "        # each sublist is a bunch of nodes\n",
    "        G.add_nodes_from(part)\n",
    "        # it also imlies a number of edges:\n",
    "        G.add_edges_from(list(zip(part[:-1], part[1:])))\n",
    "    return G  \n",
    "\n",
    "G = to_graph(linked_ids)\n",
    "linked_ids_combined = list(connected_components(G))"
   ]
  },
  {
   "cell_type": "code",
   "execution_count": 264,
   "metadata": {},
   "outputs": [
    {
     "name": "stdout",
     "output_type": "stream",
     "text": [
      "291904\n"
     ]
    },
    {
     "data": {
      "text/plain": [
       "[{0},\n",
       " {1, 2458, 98519, 115061, 140081, 165605, 476346},\n",
       " {2, 159312, 322639, 348955},\n",
       " {3},\n",
       " {4},\n",
       " {5, 50, 212533, 215197, 226720, 383605, 404324, 458692, 482810},\n",
       " {6, 38, 32871, 142067, 236367},\n",
       " {7},\n",
       " {8, 183160, 406623},\n",
       " {9, 13, 16708, 33415, 343161, 417916, 468927, 484896}]"
      ]
     },
     "execution_count": 264,
     "metadata": {},
     "output_type": "execute_result"
    }
   ],
   "source": [
    "print(len(linked_ids_combined))\n",
    "linked_ids_combined[:10]"
   ]
  },
  {
   "cell_type": "markdown",
   "metadata": {},
   "source": [
    "# Add linked_ids and total contacts to data"
   ]
  },
  {
   "cell_type": "code",
   "execution_count": 265,
   "metadata": {},
   "outputs": [],
   "source": [
    "for i, linked_ids in enumerate(linked_ids_combined):\n",
    "    contacts_total = 0\n",
    "    for id in linked_ids:\n",
    "        contacts_total += data_with_index[id][\"Contacts\"]\n",
    "    \n",
    "    output = \"-\".join(map(str, sorted(list(linked_ids)))) + \", \" + str(contacts_total)\n",
    "    for id in linked_ids:\n",
    "        data_with_index[id].update({\"ticket_trace/contact\": output})"
   ]
  },
  {
   "cell_type": "code",
   "execution_count": 266,
   "metadata": {},
   "outputs": [
    {
     "data": {
      "text/plain": [
       "{0: {'Id': 0,\n",
       "  'Email': 'gkzAbIy@qq.com',\n",
       "  'Phone': '',\n",
       "  'Contacts': 1,\n",
       "  'OrderId': '',\n",
       "  'ticket_trace/contact': '0, 1'},\n",
       " 1: {'Id': 1,\n",
       "  'Email': '',\n",
       "  'Phone': '329442681752',\n",
       "  'Contacts': 4,\n",
       "  'OrderId': 'vDDJJcxfLtSfkooPhbYnJdxov',\n",
       "  'ticket_trace/contact': '1-2458-98519-115061-140081-165605-476346, 12'},\n",
       " 2: {'Id': 2,\n",
       "  'Email': '',\n",
       "  'Phone': '9125983679',\n",
       "  'Contacts': 0,\n",
       "  'OrderId': '',\n",
       "  'ticket_trace/contact': '2-159312-322639-348955, 4'},\n",
       " 3: {'Id': 3,\n",
       "  'Email': 'mdllpYmE@gmail.com',\n",
       "  'Phone': '',\n",
       "  'Contacts': 0,\n",
       "  'OrderId': 'bHquEnCbbsGLqllwryxPsNOxa',\n",
       "  'ticket_trace/contact': '3, 0'},\n",
       " 4: {'Id': 4,\n",
       "  'Email': '',\n",
       "  'Phone': '300364407',\n",
       "  'Contacts': 2,\n",
       "  'OrderId': '',\n",
       "  'ticket_trace/contact': '4, 2'},\n",
       " 5: {'Id': 5,\n",
       "  'Email': '',\n",
       "  'Phone': '840113148',\n",
       "  'Contacts': 0,\n",
       "  'OrderId': '',\n",
       "  'ticket_trace/contact': '5-50-212533-215197-226720-383605-404324-458692-482810, 15'},\n",
       " 6: {'Id': 6,\n",
       "  'Email': 'hESiBgYTxMnj@hotmail.com',\n",
       "  'Phone': '',\n",
       "  'Contacts': 4,\n",
       "  'OrderId': '',\n",
       "  'ticket_trace/contact': '6-38-32871-142067-236367, 13'},\n",
       " 7: {'Id': 7,\n",
       "  'Email': 'hqyunTiaXfIjhO@yahoo.com',\n",
       "  'Phone': '',\n",
       "  'Contacts': 1,\n",
       "  'OrderId': 'vxjYZtMUvNhtEBDruzQfjpsmX',\n",
       "  'ticket_trace/contact': '7, 1'},\n",
       " 8: {'Id': 8,\n",
       "  'Email': 'XGUjcSiDpFKWEUCs@qq.com',\n",
       "  'Phone': '223604620644',\n",
       "  'Contacts': 2,\n",
       "  'OrderId': '',\n",
       "  'ticket_trace/contact': '8-183160-406623, 5'},\n",
       " 9: {'Id': 9,\n",
       "  'Email': 'osIIQgAiZX@hotmail.com',\n",
       "  'Phone': '',\n",
       "  'Contacts': 0,\n",
       "  'OrderId': 'IqewrMXVTJqSsVklWFfOpdRNI',\n",
       "  'ticket_trace/contact': '9-13-16708-33415-343161-417916-468927-484896, 8'}}"
      ]
     },
     "execution_count": 266,
     "metadata": {},
     "output_type": "execute_result"
    }
   ],
   "source": [
    "{k:v for k,v in data_with_index.items() if k in range(10)}"
   ]
  },
  {
   "cell_type": "markdown",
   "metadata": {},
   "source": [
    "# Extract wanted columns"
   ]
  },
  {
   "cell_type": "code",
   "execution_count": 267,
   "metadata": {},
   "outputs": [],
   "source": [
    "df = pd.DataFrame(list(map(lambda x: {\"ticket_id\": x[\"Id\"], 'ticket_trace/contact': x['ticket_trace/contact']}, data_with_index.values())))"
   ]
  },
  {
   "cell_type": "code",
   "execution_count": 268,
   "metadata": {},
   "outputs": [
    {
     "data": {
      "text/html": [
       "<div>\n",
       "<style scoped>\n",
       "    .dataframe tbody tr th:only-of-type {\n",
       "        vertical-align: middle;\n",
       "    }\n",
       "\n",
       "    .dataframe tbody tr th {\n",
       "        vertical-align: top;\n",
       "    }\n",
       "\n",
       "    .dataframe thead th {\n",
       "        text-align: right;\n",
       "    }\n",
       "</style>\n",
       "<table border=\"1\" class=\"dataframe\">\n",
       "  <thead>\n",
       "    <tr style=\"text-align: right;\">\n",
       "      <th></th>\n",
       "      <th>ticket_id</th>\n",
       "      <th>ticket_trace/contact</th>\n",
       "    </tr>\n",
       "  </thead>\n",
       "  <tbody>\n",
       "    <tr>\n",
       "      <th>0</th>\n",
       "      <td>0</td>\n",
       "      <td>0, 1</td>\n",
       "    </tr>\n",
       "    <tr>\n",
       "      <th>1</th>\n",
       "      <td>1</td>\n",
       "      <td>1-2458-98519-115061-140081-165605-476346, 12</td>\n",
       "    </tr>\n",
       "    <tr>\n",
       "      <th>2</th>\n",
       "      <td>2</td>\n",
       "      <td>2-159312-322639-348955, 4</td>\n",
       "    </tr>\n",
       "    <tr>\n",
       "      <th>3</th>\n",
       "      <td>3</td>\n",
       "      <td>3, 0</td>\n",
       "    </tr>\n",
       "    <tr>\n",
       "      <th>4</th>\n",
       "      <td>4</td>\n",
       "      <td>4, 2</td>\n",
       "    </tr>\n",
       "    <tr>\n",
       "      <th>...</th>\n",
       "      <td>...</td>\n",
       "      <td>...</td>\n",
       "    </tr>\n",
       "    <tr>\n",
       "      <th>499995</th>\n",
       "      <td>499995</td>\n",
       "      <td>499995, 2</td>\n",
       "    </tr>\n",
       "    <tr>\n",
       "      <th>499996</th>\n",
       "      <td>499996</td>\n",
       "      <td>499996, 4</td>\n",
       "    </tr>\n",
       "    <tr>\n",
       "      <th>499997</th>\n",
       "      <td>499997</td>\n",
       "      <td>499997, 2</td>\n",
       "    </tr>\n",
       "    <tr>\n",
       "      <th>499998</th>\n",
       "      <td>499998</td>\n",
       "      <td>121111-499998, 5</td>\n",
       "    </tr>\n",
       "    <tr>\n",
       "      <th>499999</th>\n",
       "      <td>499999</td>\n",
       "      <td>499999, 0</td>\n",
       "    </tr>\n",
       "  </tbody>\n",
       "</table>\n",
       "<p>500000 rows × 2 columns</p>\n",
       "</div>"
      ],
      "text/plain": [
       "        ticket_id                          ticket_trace/contact\n",
       "0               0                                          0, 1\n",
       "1               1  1-2458-98519-115061-140081-165605-476346, 12\n",
       "2               2                     2-159312-322639-348955, 4\n",
       "3               3                                          3, 0\n",
       "4               4                                          4, 2\n",
       "...           ...                                           ...\n",
       "499995     499995                                     499995, 2\n",
       "499996     499996                                     499996, 4\n",
       "499997     499997                                     499997, 2\n",
       "499998     499998                              121111-499998, 5\n",
       "499999     499999                                     499999, 0\n",
       "\n",
       "[500000 rows x 2 columns]"
      ]
     },
     "execution_count": 268,
     "metadata": {},
     "output_type": "execute_result"
    }
   ],
   "source": [
    "df"
   ]
  },
  {
   "cell_type": "code",
   "execution_count": 269,
   "metadata": {},
   "outputs": [],
   "source": [
    "df.to_csv(\"output_networkx.csv\", index=False)"
   ]
  },
  {
   "cell_type": "code",
   "execution_count": null,
   "metadata": {},
   "outputs": [],
   "source": []
  }
 ],
 "metadata": {
  "kernelspec": {
   "display_name": "Python 3",
   "language": "python",
   "name": "python3"
  },
  "language_info": {
   "codemirror_mode": {
    "name": "ipython",
    "version": 3
   },
   "file_extension": ".py",
   "mimetype": "text/x-python",
   "name": "python",
   "nbconvert_exporter": "python",
   "pygments_lexer": "ipython3",
   "version": "3.8.2"
  }
 },
 "nbformat": 4,
 "nbformat_minor": 4
}
